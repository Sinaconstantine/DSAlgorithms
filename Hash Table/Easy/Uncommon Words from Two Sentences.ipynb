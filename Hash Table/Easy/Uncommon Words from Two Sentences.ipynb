{
 "cells": [
  {
   "cell_type": "markdown",
   "id": "bfcba508-9f0e-4e8f-a87a-2937ea3559c5",
   "metadata": {},
   "source": [
    "# <span style='font-family:\"Times New Roman\"'> <span styel=''>Uncommon Words from Two Sentences"
   ]
  },
  {
   "cell_type": "markdown",
   "id": "e1af6aeb-8b49-40eb-b82f-151658f43c8b",
   "metadata": {},
   "source": [
    "## <span style='font-family:\"Times New Roman\"'> <span styel=''>A sentence is a string of single-space separated words where each word consists only of lowercase letters.\n",
    "\n",
    "## <span style='font-family:\"Times New Roman\"'> <span styel=''>A word is uncommon if it appears exactly once in one of the sentences, and does not appear in the other sentence.\n",
    "\n",
    "## <span style='font-family:\"Times New Roman\"'> <span styel=''>Given two sentences s1 and s2, return a list of all the uncommon words. You may return the answer in any order."
   ]
  },
  {
   "cell_type": "code",
   "execution_count": 1,
   "id": "dc186c22-1c71-4218-965b-bcd43e077a3e",
   "metadata": {},
   "outputs": [],
   "source": [
    "import collections"
   ]
  },
  {
   "cell_type": "code",
   "execution_count": 2,
   "id": "85242c52-e338-4357-bc07-b9c529a0c2c3",
   "metadata": {},
   "outputs": [],
   "source": [
    "def uncommonFromSentences(s1, s2):\n",
    "    s1_words = s1.split()\n",
    "    s2_words = s2.split()\n",
    "    new_s1 = [x for x in s1_words if x not in s2_words]\n",
    "    new_s2 = [x for x in s2_words if x not in s1_words]\n",
    "    count_s1 = collections.Counter(new_s1)\n",
    "    keys_s1 = list(count_s1.keys())\n",
    "    val_s1 = list(count_s1.values())\n",
    "    count_s2 = collections.Counter(new_s2)\n",
    "    keys_s2 = list(count_s2.keys())\n",
    "    val_s2 = list(count_s2.values())\n",
    "    ans = []\n",
    "    for i in range (len(keys_s1)):\n",
    "        if val_s1[i] == 1:\n",
    "            ans.append(keys_s1[i])\n",
    "    for i in range (len(keys_s2)):\n",
    "        if val_s2[i] == 1:\n",
    "            ans.append(keys_s2[i])\n",
    "    return(ans)"
   ]
  },
  {
   "cell_type": "code",
   "execution_count": 3,
   "id": "df4e57be-7424-4d92-afde-2559b95369a7",
   "metadata": {},
   "outputs": [
    {
     "name": "stdout",
     "output_type": "stream",
     "text": [
      "Output: ['sweet', 'sour']\n"
     ]
    }
   ],
   "source": [
    "s1 = \"this apple is sweet\"\n",
    "s2 = \"this apple is sour\"\n",
    "print('Output: ' + str(uncommonFromSentences(s1, s2)))"
   ]
  },
  {
   "cell_type": "code",
   "execution_count": 4,
   "id": "5ed63d41-d378-4927-aa26-9135e9f536e4",
   "metadata": {},
   "outputs": [
    {
     "name": "stdout",
     "output_type": "stream",
     "text": [
      "Output: ['banana']\n"
     ]
    }
   ],
   "source": [
    "s1 = \"apple apple\"\n",
    "s2 = \"banana\"\n",
    "print('Output: ' + str(uncommonFromSentences(s1, s2)))"
   ]
  }
 ],
 "metadata": {
  "kernelspec": {
   "display_name": "Python 3",
   "language": "python",
   "name": "python3"
  },
  "language_info": {
   "codemirror_mode": {
    "name": "ipython",
    "version": 3
   },
   "file_extension": ".py",
   "mimetype": "text/x-python",
   "name": "python",
   "nbconvert_exporter": "python",
   "pygments_lexer": "ipython3",
   "version": "3.8.8"
  }
 },
 "nbformat": 4,
 "nbformat_minor": 5
}
