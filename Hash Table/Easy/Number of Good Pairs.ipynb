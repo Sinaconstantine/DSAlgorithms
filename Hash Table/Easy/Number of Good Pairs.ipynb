{
 "cells": [
  {
   "cell_type": "markdown",
   "id": "e1e2ead5-cb25-44e5-87a9-ed8247ed532b",
   "metadata": {},
   "source": [
    "# <span style='font-family:\"Times New Roman\"'> <span styel=''> Number of Good Pairs"
   ]
  },
  {
   "cell_type": "markdown",
   "id": "37919738-2da5-416b-bcbf-a23f743e83df",
   "metadata": {},
   "source": [
    "## <span style='font-family:\"Times New Roman\"'> <span styel=''>Given an array of integers nums.\n",
    "\n",
    "## <span style='font-family:\"Times New Roman\"'> <span styel=''>A pair (i,j) is called good if nums[i] == nums[j] and i < j.\n",
    "\n",
    "## <span style='font-family:\"Times New Roman\"'> <span styel=''> Return the number of good pairs."
   ]
  },
  {
   "cell_type": "code",
   "execution_count": 1,
   "id": "cffe1679-5acc-4331-8a6a-dfd28aa1b646",
   "metadata": {},
   "outputs": [],
   "source": [
    "def numIdenticalPairs(nums):\n",
    "    cnt = 0 \n",
    "    for i in range(len(nums)):\n",
    "        new_nums = []\n",
    "        new_nums = nums[i+1:]\n",
    "        for j in range(len(new_nums)):\n",
    "            if nums[i] == new_nums[j]: cnt += 1\n",
    "    return(cnt)"
   ]
  },
  {
   "cell_type": "code",
   "execution_count": 2,
   "id": "8f7cde0b-d9a8-4979-afe9-71b4f9359f98",
   "metadata": {},
   "outputs": [
    {
     "name": "stdout",
     "output_type": "stream",
     "text": [
      "Output: 4\n"
     ]
    }
   ],
   "source": [
    "nums = [1,2,3,1,1,3]\n",
    "print('Output: ' + str(numIdenticalPairs(nums)))"
   ]
  },
  {
   "cell_type": "code",
   "execution_count": 3,
   "id": "f8d8d65f-6815-46cd-8b6d-05a2b8df1f82",
   "metadata": {},
   "outputs": [
    {
     "name": "stdout",
     "output_type": "stream",
     "text": [
      "Output: 6\n"
     ]
    }
   ],
   "source": [
    "nums = [1,1,1,1]\n",
    "print('Output: ' + str(numIdenticalPairs(nums)))"
   ]
  },
  {
   "cell_type": "code",
   "execution_count": 4,
   "id": "ddc628b0-0ade-4008-acd2-54f28265b5d2",
   "metadata": {},
   "outputs": [
    {
     "name": "stdout",
     "output_type": "stream",
     "text": [
      "Output: 0\n"
     ]
    }
   ],
   "source": [
    "nums = [1,2,3]\n",
    "print('Output: ' + str(numIdenticalPairs(nums)))"
   ]
  }
 ],
 "metadata": {
  "kernelspec": {
   "display_name": "Python 3",
   "language": "python",
   "name": "python3"
  },
  "language_info": {
   "codemirror_mode": {
    "name": "ipython",
    "version": 3
   },
   "file_extension": ".py",
   "mimetype": "text/x-python",
   "name": "python",
   "nbconvert_exporter": "python",
   "pygments_lexer": "ipython3",
   "version": "3.8.8"
  }
 },
 "nbformat": 4,
 "nbformat_minor": 5
}
