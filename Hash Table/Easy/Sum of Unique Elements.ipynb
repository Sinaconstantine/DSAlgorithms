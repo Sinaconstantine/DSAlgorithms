{
 "cells": [
  {
   "cell_type": "markdown",
   "id": "c9498fd3-76c7-429c-b757-30da20a4b5fc",
   "metadata": {},
   "source": [
    "# <span style='font-family:\"Times New Roman\"'> <span styel=''> Sum of Unique Elements"
   ]
  },
  {
   "cell_type": "markdown",
   "id": "36558659-3ad9-4a16-af58-989da06447a0",
   "metadata": {},
   "source": [
    "## <span style='font-family:\"Times New Roman\"'> <span styel=''>You are given an integer array nums. The unique elements of an array are the elements that appear exactly once in the array.\n",
    "\n",
    "## <span style='font-family:\"Times New Roman\"'> <span styel=''>Return the sum of all the unique elements of nums."
   ]
  },
  {
   "cell_type": "code",
   "execution_count": 1,
   "id": "0dd0465a-d6b5-42bc-ac78-1fe73d490aad",
   "metadata": {},
   "outputs": [],
   "source": [
    "import collections"
   ]
  },
  {
   "cell_type": "code",
   "execution_count": 2,
   "id": "351c5944-70a1-46af-8c7e-41ba1137b12e",
   "metadata": {},
   "outputs": [],
   "source": [
    "def sumOfUnique(nums):\n",
    "    count = collections.Counter(nums)\n",
    "    keys = list(count.keys())\n",
    "    vals = list(count.values())\n",
    "    ans = []\n",
    "    for i in range(len(keys)):\n",
    "        if vals[i] == 1:\n",
    "            ans.append(keys[i])\n",
    "    return(sum(ans))"
   ]
  },
  {
   "cell_type": "code",
   "execution_count": 3,
   "id": "205e8e70-3caf-4bc5-9c45-752b240f9f8b",
   "metadata": {},
   "outputs": [
    {
     "name": "stdout",
     "output_type": "stream",
     "text": [
      "Output: 4\n"
     ]
    }
   ],
   "source": [
    "nums = [1,2,3,2]\n",
    "print('Output: ' + str(sumOfUnique(nums)))"
   ]
  },
  {
   "cell_type": "code",
   "execution_count": 4,
   "id": "b55880c1-1a1a-4f8e-8584-06687f387381",
   "metadata": {},
   "outputs": [
    {
     "name": "stdout",
     "output_type": "stream",
     "text": [
      "Output: 0\n"
     ]
    }
   ],
   "source": [
    "nums = [1,1,1,1,1]\n",
    "print('Output: ' + str(sumOfUnique(nums)))"
   ]
  },
  {
   "cell_type": "code",
   "execution_count": 5,
   "id": "8f7a260c-3545-41f9-abc3-772f2efe2ba9",
   "metadata": {},
   "outputs": [
    {
     "name": "stdout",
     "output_type": "stream",
     "text": [
      "Output: 15\n"
     ]
    }
   ],
   "source": [
    "nums = [1,2,3,4,5]\n",
    "print('Output: ' + str(sumOfUnique(nums)))"
   ]
  },
  {
   "cell_type": "code",
   "execution_count": null,
   "id": "963806c1-4831-42c5-a2d6-bd6d8f829ad8",
   "metadata": {},
   "outputs": [],
   "source": []
  }
 ],
 "metadata": {
  "kernelspec": {
   "display_name": "Python 3",
   "language": "python",
   "name": "python3"
  },
  "language_info": {
   "codemirror_mode": {
    "name": "ipython",
    "version": 3
   },
   "file_extension": ".py",
   "mimetype": "text/x-python",
   "name": "python",
   "nbconvert_exporter": "python",
   "pygments_lexer": "ipython3",
   "version": "3.8.8"
  }
 },
 "nbformat": 4,
 "nbformat_minor": 5
}
