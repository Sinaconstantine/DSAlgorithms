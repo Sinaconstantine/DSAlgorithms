{
 "cells": [
  {
   "cell_type": "markdown",
   "metadata": {},
   "source": [
    "# <span style='font-family:\"Times New Roman\"'> <span styel=''> N-Repeated Element in Size 2N Array"
   ]
  },
  {
   "cell_type": "markdown",
   "metadata": {},
   "source": [
    "## <span style='font-family:\"Times New Roman\"'> <span styel=''> In a array nums of size `2 * n`, there are `n + 1` unique elements, and exactly one of these elements is repeated `n` times.\n",
    "\n",
    "## <span style='font-family:\"Times New Roman\"'> <span styel=''> Return the element repeated `n` times."
   ]
  },
  {
   "cell_type": "code",
   "execution_count": 1,
   "metadata": {},
   "outputs": [],
   "source": [
    "import collections\n",
    "def repeatedNTimes(nums):\n",
    "    count = collections.Counter(nums)\n",
    "    for i in count:\n",
    "        if count[i] > 1:\n",
    "            return i"
   ]
  },
  {
   "cell_type": "code",
   "execution_count": 2,
   "metadata": {},
   "outputs": [
    {
     "name": "stdout",
     "output_type": "stream",
     "text": [
      "The Output is: \n",
      "3\n"
     ]
    }
   ],
   "source": [
    "nums = [1,2,3,3]\n",
    "print('The Output is: ')\n",
    "print(repeatedNTimes(nums))"
   ]
  },
  {
   "cell_type": "code",
   "execution_count": 3,
   "metadata": {},
   "outputs": [
    {
     "name": "stdout",
     "output_type": "stream",
     "text": [
      "The Output is: \n",
      "2\n"
     ]
    }
   ],
   "source": [
    "nums = [2,1,2,5,3,2]\n",
    "print('The Output is: ')\n",
    "print(repeatedNTimes(nums))"
   ]
  },
  {
   "cell_type": "code",
   "execution_count": 4,
   "metadata": {},
   "outputs": [
    {
     "name": "stdout",
     "output_type": "stream",
     "text": [
      "The Output is: \n",
      "5\n"
     ]
    }
   ],
   "source": [
    "nums = [5,1,5,2,5,3,5,4]\n",
    "print('The Output is: ')\n",
    "print(repeatedNTimes(nums))"
   ]
  },
  {
   "cell_type": "code",
   "execution_count": null,
   "metadata": {},
   "outputs": [],
   "source": []
  }
 ],
 "metadata": {
  "kernelspec": {
   "display_name": "Python 3",
   "language": "python",
   "name": "python3"
  },
  "language_info": {
   "codemirror_mode": {
    "name": "ipython",
    "version": 3
   },
   "file_extension": ".py",
   "mimetype": "text/x-python",
   "name": "python",
   "nbconvert_exporter": "python",
   "pygments_lexer": "ipython3",
   "version": "3.8.8"
  }
 },
 "nbformat": 4,
 "nbformat_minor": 4
}
