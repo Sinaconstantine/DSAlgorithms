{
 "cells": [
  {
   "cell_type": "markdown",
   "id": "52060984-21c7-4334-8c9e-6af9940034df",
   "metadata": {},
   "source": [
    "# <span style='font-family:\"Times New Roman\"'> <span styel=''> Intersection of Two Arrays"
   ]
  },
  {
   "cell_type": "markdown",
   "id": "a66fe88c-c697-4ac3-9982-dc28ece6fee3",
   "metadata": {},
   "source": [
    "## <span style='font-family:\"Times New Roman\"'> <span styel=''>Given two integer arrays nums1 and nums2, return an array of their intersection. Each element in the result must be unique and you may return the result in any order."
   ]
  },
  {
   "cell_type": "code",
   "execution_count": 1,
   "id": "d8ef846e-b9f9-4a83-9e50-9256ea4ab4fc",
   "metadata": {},
   "outputs": [],
   "source": [
    "import collections"
   ]
  },
  {
   "cell_type": "code",
   "execution_count": 2,
   "id": "490eec65-9f15-4357-9bd0-cf63b31ca4fd",
   "metadata": {},
   "outputs": [],
   "source": [
    "def intersection(nums1, nums2):\n",
    "    count1 = collections.Counter(nums1)\n",
    "    count2 = collections.Counter(nums2)\n",
    "    keys1 = list(count1.keys())\n",
    "    keys2 = list(count2.keys())\n",
    "    return([x for x in keys1 if x in keys2])"
   ]
  },
  {
   "cell_type": "code",
   "execution_count": 3,
   "id": "6203a392-74dd-4e29-84b9-28e86bda70ae",
   "metadata": {},
   "outputs": [
    {
     "name": "stdout",
     "output_type": "stream",
     "text": [
      "Output: [2]\n"
     ]
    }
   ],
   "source": [
    "nums1 = [1,2,2,1]\n",
    "nums2 = [2,2]\n",
    "print('Output: ' + str(intersection(nums1, nums2)))"
   ]
  },
  {
   "cell_type": "code",
   "execution_count": 4,
   "id": "71f6b333-eaf8-40ae-b307-49c0b3fbcf96",
   "metadata": {},
   "outputs": [
    {
     "name": "stdout",
     "output_type": "stream",
     "text": [
      "Output: [4, 9]\n"
     ]
    }
   ],
   "source": [
    "nums1 = [4,9,5]\n",
    "nums2 = [9,4,9,8,4]\n",
    "print('Output: ' + str(intersection(nums1, nums2)))"
   ]
  }
 ],
 "metadata": {
  "kernelspec": {
   "display_name": "Python 3",
   "language": "python",
   "name": "python3"
  },
  "language_info": {
   "codemirror_mode": {
    "name": "ipython",
    "version": 3
   },
   "file_extension": ".py",
   "mimetype": "text/x-python",
   "name": "python",
   "nbconvert_exporter": "python",
   "pygments_lexer": "ipython3",
   "version": "3.8.8"
  }
 },
 "nbformat": 4,
 "nbformat_minor": 5
}
