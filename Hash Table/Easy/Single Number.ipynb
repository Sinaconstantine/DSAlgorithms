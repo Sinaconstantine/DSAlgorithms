{
 "cells": [
  {
   "cell_type": "markdown",
   "id": "b32ffefd-a964-4a5d-b8ad-a0d603c855e9",
   "metadata": {},
   "source": [
    "# <span style='font-family:\"Times New Roman\"'> <span styel=''> Single Number"
   ]
  },
  {
   "cell_type": "markdown",
   "id": "25c5adf8-a3d3-4515-829a-bf636b9427e0",
   "metadata": {},
   "source": [
    "## <span style='font-family:\"Times New Roman\"'> <span styel=''>Given a non-empty array of integers nums, every element appears twice except for one. Find that single one.\n",
    "\n",
    "## <span style='font-family:\"Times New Roman\"'> <span styel=''> You must implement a solution with a linear runtime complexity and use only constant extra space."
   ]
  },
  {
   "cell_type": "code",
   "execution_count": 1,
   "id": "920e4ab3-47f5-4114-97fd-9746cb5934c6",
   "metadata": {},
   "outputs": [],
   "source": [
    "import collections"
   ]
  },
  {
   "cell_type": "code",
   "execution_count": 2,
   "id": "3f3821d4-b644-493e-940b-9478bac946f1",
   "metadata": {},
   "outputs": [],
   "source": [
    "def singleNumber(nums):\n",
    "    count = collections.Counter(nums)\n",
    "    key_list = list(count.keys())\n",
    "    val_list = list(count.values())\n",
    "    return(key_list[val_list.index(1)])"
   ]
  },
  {
   "cell_type": "code",
   "execution_count": 3,
   "id": "3c6df4e3-da86-4ea1-b0ea-f8f66e56c894",
   "metadata": {},
   "outputs": [
    {
     "name": "stdout",
     "output_type": "stream",
     "text": [
      "Output: 1\n"
     ]
    }
   ],
   "source": [
    "nums = [2,2,1]\n",
    "print('Output: ' + str(singleNumber(nums)))"
   ]
  },
  {
   "cell_type": "code",
   "execution_count": 4,
   "id": "2fa4a718-49e3-4b52-ae95-4491409f2e99",
   "metadata": {},
   "outputs": [
    {
     "name": "stdout",
     "output_type": "stream",
     "text": [
      "Output: 4\n"
     ]
    }
   ],
   "source": [
    "nums = [4,1,2,1,2]\n",
    "print('Output: ' + str(singleNumber(nums)))"
   ]
  },
  {
   "cell_type": "code",
   "execution_count": 5,
   "id": "790595f8-f899-48c4-89dc-981c1c6e32b4",
   "metadata": {},
   "outputs": [
    {
     "name": "stdout",
     "output_type": "stream",
     "text": [
      "Output: 1\n"
     ]
    }
   ],
   "source": [
    "nums = [1]\n",
    "print('Output: ' + str(singleNumber(nums)))"
   ]
  }
 ],
 "metadata": {
  "kernelspec": {
   "display_name": "Python 3",
   "language": "python",
   "name": "python3"
  },
  "language_info": {
   "codemirror_mode": {
    "name": "ipython",
    "version": 3
   },
   "file_extension": ".py",
   "mimetype": "text/x-python",
   "name": "python",
   "nbconvert_exporter": "python",
   "pygments_lexer": "ipython3",
   "version": "3.8.8"
  }
 },
 "nbformat": 4,
 "nbformat_minor": 5
}
