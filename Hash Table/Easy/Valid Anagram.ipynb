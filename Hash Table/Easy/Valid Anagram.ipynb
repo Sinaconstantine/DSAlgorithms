{
 "cells": [
  {
   "cell_type": "markdown",
   "id": "7a1261fc-ade5-4e55-acc6-1641b5f22059",
   "metadata": {},
   "source": [
    "# <span style='font-family:\"Times New Roman\"'> <span styel=''> Valid Anagram"
   ]
  },
  {
   "cell_type": "markdown",
   "id": "4c2580f9-1989-4ecf-a6a6-cef24f6b7e2c",
   "metadata": {},
   "source": [
    "## <span style='font-family:\"Times New Roman\"'> <span styel=''> Given two strings s and t, return true if t is an anagram of s, and false otherwise."
   ]
  },
  {
   "cell_type": "code",
   "execution_count": 1,
   "id": "94a65fc1-47b2-4b83-a0a5-09f4b7af93f8",
   "metadata": {},
   "outputs": [],
   "source": [
    "import collections"
   ]
  },
  {
   "cell_type": "code",
   "execution_count": 2,
   "id": "960cb4c2-35c1-45c9-8b89-bb3154e99e60",
   "metadata": {},
   "outputs": [],
   "source": [
    "def isAnagram(s, t):\n",
    "    count_s = collections.Counter(s)\n",
    "    count_t = collections.Counter(t)\n",
    "    if count_s == count_t:\n",
    "        return(True)\n",
    "    else:\n",
    "        return(False)"
   ]
  },
  {
   "cell_type": "code",
   "execution_count": 3,
   "id": "e489c242-d6b5-4607-8eaa-814f5fa30dd5",
   "metadata": {},
   "outputs": [
    {
     "name": "stdout",
     "output_type": "stream",
     "text": [
      "Output: True\n"
     ]
    }
   ],
   "source": [
    "s = \"anagram\"\n",
    "t = \"nagaram\"\n",
    "print('Output: ' + str(isAnagram(s, t)))"
   ]
  },
  {
   "cell_type": "code",
   "execution_count": 4,
   "id": "d86b83b3-aaea-4cdc-a320-20783e3dd8bb",
   "metadata": {},
   "outputs": [
    {
     "name": "stdout",
     "output_type": "stream",
     "text": [
      "Output: False\n"
     ]
    }
   ],
   "source": [
    "s = \"rat\"\n",
    "t = \"car\"\n",
    "print('Output: ' + str(isAnagram(s, t)))"
   ]
  }
 ],
 "metadata": {
  "kernelspec": {
   "display_name": "Python 3",
   "language": "python",
   "name": "python3"
  },
  "language_info": {
   "codemirror_mode": {
    "name": "ipython",
    "version": 3
   },
   "file_extension": ".py",
   "mimetype": "text/x-python",
   "name": "python",
   "nbconvert_exporter": "python",
   "pygments_lexer": "ipython3",
   "version": "3.8.8"
  }
 },
 "nbformat": 4,
 "nbformat_minor": 5
}
