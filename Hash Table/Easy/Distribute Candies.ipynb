{
 "cells": [
  {
   "cell_type": "markdown",
   "id": "8dff7a86-b886-412b-8ce2-8ecb32ec3a50",
   "metadata": {},
   "source": [
    "# <span style='font-family:\"Times New Roman\"'> <span styel=''> Distribute Candies"
   ]
  },
  {
   "cell_type": "markdown",
   "id": "6c082637-0dae-4412-845b-d11fe368d722",
   "metadata": {},
   "source": [
    "## <span style='font-family:\"Times New Roman\"'> <span styel=''> Given the integer array candyType of length n, return the maximum number of different types of candies she can eat if she only eats n / 2 of them."
   ]
  },
  {
   "cell_type": "code",
   "execution_count": 1,
   "id": "40e52994-2180-4985-95d9-a6485eae7d4f",
   "metadata": {},
   "outputs": [],
   "source": [
    "def distributeCandies(candyType):\n",
    "    if len(candyType)/2 <= len(set(candyType)):\n",
    "        return(int(len(candyType)/2))\n",
    "    else:\n",
    "        return(int(len(set(candyType))))"
   ]
  },
  {
   "cell_type": "code",
   "execution_count": 2,
   "id": "d6d18171-4b07-438b-992a-ee5925f48d37",
   "metadata": {},
   "outputs": [
    {
     "name": "stdout",
     "output_type": "stream",
     "text": [
      "Output: 3\n"
     ]
    }
   ],
   "source": [
    "candyType = [1,1,2,2,3,3]\n",
    "print('Output: ' + str(distributeCandies(candyType)))"
   ]
  },
  {
   "cell_type": "code",
   "execution_count": 3,
   "id": "200e36a3-8d4e-4ce0-87a2-4b385c904799",
   "metadata": {},
   "outputs": [
    {
     "name": "stdout",
     "output_type": "stream",
     "text": [
      "Output: 2\n"
     ]
    }
   ],
   "source": [
    "candyType = [1,1,2,3]\n",
    "print('Output: ' + str(distributeCandies(candyType)))"
   ]
  },
  {
   "cell_type": "code",
   "execution_count": 4,
   "id": "32d6a146-2612-4a6e-807f-5a3ab5663e60",
   "metadata": {},
   "outputs": [
    {
     "name": "stdout",
     "output_type": "stream",
     "text": [
      "Output: 1\n"
     ]
    }
   ],
   "source": [
    "candyType = [6,6,6,6]\n",
    "print('Output: ' + str(distributeCandies(candyType)))"
   ]
  }
 ],
 "metadata": {
  "kernelspec": {
   "display_name": "Python 3",
   "language": "python",
   "name": "python3"
  },
  "language_info": {
   "codemirror_mode": {
    "name": "ipython",
    "version": 3
   },
   "file_extension": ".py",
   "mimetype": "text/x-python",
   "name": "python",
   "nbconvert_exporter": "python",
   "pygments_lexer": "ipython3",
   "version": "3.8.8"
  }
 },
 "nbformat": 4,
 "nbformat_minor": 5
}
