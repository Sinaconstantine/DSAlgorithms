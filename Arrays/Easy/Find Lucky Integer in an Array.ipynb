{
 "cells": [
  {
   "cell_type": "markdown",
   "metadata": {},
   "source": [
    "# <span style='font-family:\"Times New Roman\"'> <span styel=''> Find Lucky Integer in an Array"
   ]
  },
  {
   "cell_type": "markdown",
   "metadata": {},
   "source": [
    "## <span style='font-family:\"Times New Roman\"'> <span styel=''> Given an array of integers arr, a lucky integer is an integer which has a frequency in the array equal to its value.\n",
    "\n",
    "## <span style='font-family:\"Times New Roman\"'> <span styel=''> Return a lucky integer in the array. If there are multiple lucky integers return the largest of them. If there is no lucky integer return -1."
   ]
  },
  {
   "cell_type": "code",
   "execution_count": 1,
   "metadata": {},
   "outputs": [],
   "source": [
    "def findLucky(arr):\n",
    "\n",
    "    cnt = [arr.count(x) for x in arr]\n",
    "    res = []\n",
    "    for i in range(len(arr)):\n",
    "        if arr[i] == cnt[i]:\n",
    "            res.append(arr[i])\n",
    "    if len(res) != 0:\n",
    "        return(max(res)) \n",
    "    else: return (-1)"
   ]
  },
  {
   "cell_type": "code",
   "execution_count": 2,
   "metadata": {},
   "outputs": [
    {
     "name": "stdout",
     "output_type": "stream",
     "text": [
      "Lucky number is: \n",
      "2\n"
     ]
    }
   ],
   "source": [
    "arr = [2,2,3,4]\n",
    "print('Lucky number is: ')\n",
    "print(findLucky(arr))"
   ]
  },
  {
   "cell_type": "code",
   "execution_count": 3,
   "metadata": {},
   "outputs": [
    {
     "name": "stdout",
     "output_type": "stream",
     "text": [
      "Lucky number is: \n",
      "3\n"
     ]
    }
   ],
   "source": [
    "arr = [1,2,2,3,3,3]\n",
    "print('Lucky number is: ')\n",
    "print(findLucky(arr))"
   ]
  },
  {
   "cell_type": "code",
   "execution_count": 4,
   "metadata": {},
   "outputs": [
    {
     "name": "stdout",
     "output_type": "stream",
     "text": [
      "Lucky number is: \n",
      "-1\n"
     ]
    }
   ],
   "source": [
    "arr = [2,2,2,3,3]\n",
    "print('Lucky number is: ')\n",
    "print(findLucky(arr))"
   ]
  },
  {
   "cell_type": "code",
   "execution_count": 5,
   "metadata": {},
   "outputs": [
    {
     "name": "stdout",
     "output_type": "stream",
     "text": [
      "Lucky number is: \n",
      "-1\n"
     ]
    }
   ],
   "source": [
    "arr = [5]\n",
    "print('Lucky number is: ')\n",
    "print(findLucky(arr))"
   ]
  },
  {
   "cell_type": "code",
   "execution_count": 6,
   "metadata": {},
   "outputs": [
    {
     "name": "stdout",
     "output_type": "stream",
     "text": [
      "Lucky number is: \n",
      "7\n"
     ]
    }
   ],
   "source": [
    "arr = [7,7,7,7,7,7,7]\n",
    "print('Lucky number is: ')\n",
    "print(findLucky(arr))"
   ]
  },
  {
   "cell_type": "code",
   "execution_count": null,
   "metadata": {},
   "outputs": [],
   "source": []
  }
 ],
 "metadata": {
  "kernelspec": {
   "display_name": "Python 3",
   "language": "python",
   "name": "python3"
  },
  "language_info": {
   "codemirror_mode": {
    "name": "ipython",
    "version": 3
   },
   "file_extension": ".py",
   "mimetype": "text/x-python",
   "name": "python",
   "nbconvert_exporter": "python",
   "pygments_lexer": "ipython3",
   "version": "3.7.9"
  }
 },
 "nbformat": 4,
 "nbformat_minor": 4
}
