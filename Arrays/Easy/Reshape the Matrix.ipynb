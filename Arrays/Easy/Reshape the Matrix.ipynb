{
 "cells": [
  {
   "cell_type": "markdown",
   "metadata": {},
   "source": [
    "# <span style='font-family:\"Times New Roman\"'> <span styel=''> Reshape the Matrix"
   ]
  },
  {
   "cell_type": "markdown",
   "metadata": {},
   "source": [
    "## <span style='font-family:\"Times New Roman\"'> <span styel=''>You are given an m x n matrix mat and two integers r and c representing the row number and column number of the wanted reshaped matrix.\n",
    "\n",
    "## <span style='font-family:\"Times New Roman\"'> <span styel=''>The reshaped matrix should be filled with all the elements of the original matrix in the same row-traversing order as they were.\n",
    "\n",
    "## <span style='font-family:\"Times New Roman\"'> <span styel=''>If the reshape operation with given parameters is possible and legal, output the new reshaped matrix; Otherwise, output the original matrix."
   ]
  },
  {
   "cell_type": "code",
   "execution_count": 5,
   "metadata": {},
   "outputs": [],
   "source": [
    "def matrixReshape(mat, r , c):\n",
    "    flat = [i for row in mat for i in row ]\n",
    "    if r * c == len(flat):\n",
    "        return [flat[i*c : (i + 1)*c] for i in range(r) ]\n",
    "    else:\n",
    "        return mat"
   ]
  },
  {
   "cell_type": "code",
   "execution_count": 6,
   "metadata": {},
   "outputs": [
    {
     "name": "stdout",
     "output_type": "stream",
     "text": [
      "Output is:\n",
      "[[1, 2, 3, 4]]\n"
     ]
    }
   ],
   "source": [
    "mat = [[1,2],[3,4]] \n",
    "r = 1\n",
    "c = 4\n",
    "print(\"Output is:\")\n",
    "print(matrixReshape(mat, r , c))"
   ]
  },
  {
   "cell_type": "code",
   "execution_count": 7,
   "metadata": {},
   "outputs": [
    {
     "name": "stdout",
     "output_type": "stream",
     "text": [
      "Output is:\n",
      "[[1], [2], [3], [4]]\n"
     ]
    }
   ],
   "source": [
    "mat = [[1,2],[3,4]] \n",
    "r = 4\n",
    "c = 1\n",
    "print(\"Output is:\")\n",
    "print(matrixReshape(mat, r , c))"
   ]
  },
  {
   "cell_type": "code",
   "execution_count": 8,
   "metadata": {},
   "outputs": [
    {
     "name": "stdout",
     "output_type": "stream",
     "text": [
      "Output is:\n",
      "[[1, 2], [3, 4]]\n"
     ]
    }
   ],
   "source": [
    "mat = [[1,2],[3,4]] \n",
    "r = 2\n",
    "c = 2\n",
    "print(\"Output is:\")\n",
    "print(matrixReshape(mat, r , c))"
   ]
  }
 ],
 "metadata": {
  "kernelspec": {
   "display_name": "Python 3",
   "language": "python",
   "name": "python3"
  },
  "language_info": {
   "codemirror_mode": {
    "name": "ipython",
    "version": 3
   },
   "file_extension": ".py",
   "mimetype": "text/x-python",
   "name": "python",
   "nbconvert_exporter": "python",
   "pygments_lexer": "ipython3",
   "version": "3.7.9"
  }
 },
 "nbformat": 4,
 "nbformat_minor": 4
}
