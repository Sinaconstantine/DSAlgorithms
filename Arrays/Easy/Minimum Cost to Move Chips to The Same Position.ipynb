{
 "cells": [
  {
   "cell_type": "markdown",
   "metadata": {},
   "source": [
    "# <span style='font-family:\"Times New Roman\"'> <span styel=''>Minimum Cost to Move Chips to The Same Position"
   ]
  },
  {
   "cell_type": "markdown",
   "metadata": {},
   "source": [
    "## <span style='font-family:\"Times New Roman\"'> <span styel=''>We have n chips, where the position of the ith chip is position[i].\n",
    "\n",
    "## <span style='font-family:\"Times New Roman\"'> <span styel=''>We need to move all the chips to the same position. In one step, we can change the position of the `ith` chip from position[i] to:\n",
    "\n",
    "    position[i] + 2 or position[i] - 2 with cost = 0.\n",
    "    position[i] + 1 or position[i] - 1 with cost = 1.\n",
    "\n",
    "## <span style='font-family:\"Times New Roman\"'> <span styel=''>Return the minimum cost needed to move all the chips to the same position."
   ]
  },
  {
   "cell_type": "code",
   "execution_count": 1,
   "metadata": {},
   "outputs": [],
   "source": [
    "def minCostToMoveChips(position):\n",
    "    return min([sum(x%2 == 0 for x in position), sum(x%2 != 0 for x in position)])"
   ]
  },
  {
   "cell_type": "code",
   "execution_count": 2,
   "metadata": {},
   "outputs": [
    {
     "name": "stdout",
     "output_type": "stream",
     "text": [
      "Output is: \n",
      "1\n"
     ]
    }
   ],
   "source": [
    "position = [1,2,3]\n",
    "print('Output is: ')\n",
    "print(minCostToMoveChips(position))"
   ]
  },
  {
   "cell_type": "code",
   "execution_count": 3,
   "metadata": {},
   "outputs": [
    {
     "name": "stdout",
     "output_type": "stream",
     "text": [
      "Output is: \n",
      "2\n"
     ]
    }
   ],
   "source": [
    "position = [2,2,2,3,3]\n",
    "print('Output is: ')\n",
    "print(minCostToMoveChips(position))"
   ]
  },
  {
   "cell_type": "code",
   "execution_count": 4,
   "metadata": {},
   "outputs": [
    {
     "name": "stdout",
     "output_type": "stream",
     "text": [
      "Output is: \n",
      "1\n"
     ]
    }
   ],
   "source": [
    "position = [1,1000000000]\n",
    "print('Output is: ')\n",
    "print(minCostToMoveChips(position))"
   ]
  }
 ],
 "metadata": {
  "kernelspec": {
   "display_name": "Python 3",
   "language": "python",
   "name": "python3"
  },
  "language_info": {
   "codemirror_mode": {
    "name": "ipython",
    "version": 3
   },
   "file_extension": ".py",
   "mimetype": "text/x-python",
   "name": "python",
   "nbconvert_exporter": "python",
   "pygments_lexer": "ipython3",
   "version": "3.7.9"
  }
 },
 "nbformat": 4,
 "nbformat_minor": 4
}
