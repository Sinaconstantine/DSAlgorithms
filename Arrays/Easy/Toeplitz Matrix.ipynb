{
 "cells": [
  {
   "cell_type": "markdown",
   "metadata": {},
   "source": [
    "# <span style='font-family:\"Times New Roman\"'> <span styel=''> Toeplitz Matrix"
   ]
  },
  {
   "cell_type": "markdown",
   "metadata": {},
   "source": [
    "## <span style='font-family:\"Times New Roman\"'> <span styel=''> Given an m x n matrix, return true if the matrix is Toeplitz. Otherwise, return false."
   ]
  },
  {
   "cell_type": "code",
   "execution_count": 1,
   "metadata": {},
   "outputs": [],
   "source": [
    "def isToeplitzMatrix(matrix):\n",
    "\n",
    "    i = 0\n",
    "    while i + 1 < len(matrix):\n",
    "        if matrix[i][:-1] != matrix[i+1][1:]:\n",
    "            return(False)\n",
    "        i += 1\n",
    "    return(True)    "
   ]
  },
  {
   "cell_type": "code",
   "execution_count": 2,
   "metadata": {},
   "outputs": [
    {
     "name": "stdout",
     "output_type": "stream",
     "text": [
      "Matrix is Toeplitz:\n",
      "True\n"
     ]
    }
   ],
   "source": [
    "matrix = [[1,2,3,4],[5,1,2,3],[9,5,1,2]]\n",
    "print('Matrix is Toeplitz:')\n",
    "print(isToeplitzMatrix(matrix))"
   ]
  },
  {
   "cell_type": "code",
   "execution_count": 3,
   "metadata": {},
   "outputs": [
    {
     "name": "stdout",
     "output_type": "stream",
     "text": [
      "Matrix is Toeplitz:\n",
      "False\n"
     ]
    }
   ],
   "source": [
    "matrix = [[1,2],[2,2]]\n",
    "print('Matrix is Toeplitz:')\n",
    "print(isToeplitzMatrix(matrix))"
   ]
  }
 ],
 "metadata": {
  "kernelspec": {
   "display_name": "Python 3",
   "language": "python",
   "name": "python3"
  },
  "language_info": {
   "codemirror_mode": {
    "name": "ipython",
    "version": 3
   },
   "file_extension": ".py",
   "mimetype": "text/x-python",
   "name": "python",
   "nbconvert_exporter": "python",
   "pygments_lexer": "ipython3",
   "version": "3.7.9"
  }
 },
 "nbformat": 4,
 "nbformat_minor": 4
}
