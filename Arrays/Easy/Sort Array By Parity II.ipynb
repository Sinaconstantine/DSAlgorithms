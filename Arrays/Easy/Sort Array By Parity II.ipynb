{
 "cells": [
  {
   "cell_type": "markdown",
   "metadata": {},
   "source": [
    "# <span style='font-family:\"Times New Roman\"'> <span styel=''> Sort Array By Parity II"
   ]
  },
  {
   "cell_type": "markdown",
   "metadata": {},
   "source": [
    "## <span style='font-family:\"Times New Roman\"'> <span styel=''>Given an array of integers nums, half of the integers in nums are odd, and the other half are even.\n",
    "\n",
    "## <span style='font-family:\"Times New Roman\"'> <span styel=''>Sort the array so that whenever nums[i] is odd, i is odd, and whenever nums[i] is even, i is even.\n",
    "\n",
    "## <span style='font-family:\"Times New Roman\"'> <span styel=''>Return any answer array that satisfies this condition."
   ]
  },
  {
   "cell_type": "code",
   "execution_count": 1,
   "metadata": {},
   "outputs": [],
   "source": [
    "def sortArrayByParityII(nums):\n",
    "\n",
    "    odd = [n for n in nums if n%2 != 0]\n",
    "    even = [n for n in nums if n%2 == 0]\n",
    "    i, j = 0, 0\n",
    "    res = []\n",
    "    for k in range(len(nums)):\n",
    "        if(k%2 == 0):\n",
    "            res.append(even[i])\n",
    "            i+=1\n",
    "        else:\n",
    "            res.append(odd[j])\n",
    "            j+=1\n",
    "    return res"
   ]
  },
  {
   "cell_type": "code",
   "execution_count": 2,
   "metadata": {},
   "outputs": [
    {
     "name": "stdout",
     "output_type": "stream",
     "text": [
      "Output is :\n",
      "[4, 5, 2, 7]\n"
     ]
    }
   ],
   "source": [
    "nums = [4,2,5,7]\n",
    "Output = sortArrayByParityII(nums)\n",
    "print('Output is :')\n",
    "print(Output)"
   ]
  },
  {
   "cell_type": "code",
   "execution_count": 3,
   "metadata": {},
   "outputs": [
    {
     "name": "stdout",
     "output_type": "stream",
     "text": [
      "Output is :\n",
      "[2, 3]\n"
     ]
    }
   ],
   "source": [
    "nums = [2, 3]\n",
    "Output = sortArrayByParityII(nums)\n",
    "print('Output is :')\n",
    "print(Output)"
   ]
  },
  {
   "cell_type": "code",
   "execution_count": null,
   "metadata": {},
   "outputs": [],
   "source": []
  }
 ],
 "metadata": {
  "kernelspec": {
   "display_name": "Python 3",
   "language": "python",
   "name": "python3"
  },
  "language_info": {
   "codemirror_mode": {
    "name": "ipython",
    "version": 3
   },
   "file_extension": ".py",
   "mimetype": "text/x-python",
   "name": "python",
   "nbconvert_exporter": "python",
   "pygments_lexer": "ipython3",
   "version": "3.7.9"
  }
 },
 "nbformat": 4,
 "nbformat_minor": 4
}
