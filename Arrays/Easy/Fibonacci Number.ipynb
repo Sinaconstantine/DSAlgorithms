{
 "cells": [
  {
   "cell_type": "markdown",
   "metadata": {},
   "source": [
    "# <span style='font-family:\"Times New Roman\"'> <span styel=''> Fibonacci Number"
   ]
  },
  {
   "cell_type": "code",
   "execution_count": 1,
   "metadata": {},
   "outputs": [],
   "source": [
    "def fib(n):\n",
    "    fibo = [0, 1]\n",
    "    i = 2\n",
    "    while i < n + 1:\n",
    "        fibo.append(fibo[i-1] + fibo[i-2])\n",
    "        i += 1\n",
    "    return (fibo[n])"
   ]
  },
  {
   "cell_type": "code",
   "execution_count": 2,
   "metadata": {},
   "outputs": [
    {
     "name": "stdout",
     "output_type": "stream",
     "text": [
      "Fibonacci Number is :\n",
      "5\n"
     ]
    }
   ],
   "source": [
    "n = 5\n",
    "Output = fib(n)\n",
    "print('Fibonacci Number is :')\n",
    "print(Output)"
   ]
  },
  {
   "cell_type": "code",
   "execution_count": 3,
   "metadata": {},
   "outputs": [
    {
     "name": "stdout",
     "output_type": "stream",
     "text": [
      "Fibonacci Number is :\n",
      "55\n"
     ]
    }
   ],
   "source": [
    "n = 10\n",
    "Output = fib(n)\n",
    "print('Fibonacci Number is :')\n",
    "print(Output)"
   ]
  },
  {
   "cell_type": "code",
   "execution_count": null,
   "metadata": {},
   "outputs": [],
   "source": []
  }
 ],
 "metadata": {
  "kernelspec": {
   "display_name": "Python 3",
   "language": "python",
   "name": "python3"
  },
  "language_info": {
   "codemirror_mode": {
    "name": "ipython",
    "version": 3
   },
   "file_extension": ".py",
   "mimetype": "text/x-python",
   "name": "python",
   "nbconvert_exporter": "python",
   "pygments_lexer": "ipython3",
   "version": "3.7.9"
  }
 },
 "nbformat": 4,
 "nbformat_minor": 4
}
