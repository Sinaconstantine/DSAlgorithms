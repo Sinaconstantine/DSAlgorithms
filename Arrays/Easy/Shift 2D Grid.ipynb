{
 "cells": [
  {
   "cell_type": "markdown",
   "metadata": {},
   "source": [
    "# <span style='font-family:\"Times New Roman\"'> <span styel=''> Shift 2D Grid"
   ]
  },
  {
   "cell_type": "markdown",
   "metadata": {},
   "source": [
    "## <span style='font-family:\"Times New Roman\"'> <span styel=''> Given a 2D grid of size m x n and an integer k. You need to shift the grid k times."
   ]
  },
  {
   "cell_type": "code",
   "execution_count": 1,
   "metadata": {},
   "outputs": [],
   "source": [
    "def shiftGrid(grid, k):\n",
    "\n",
    "    result = grid[:]\n",
    "    res = []\n",
    "    cnt = 0\n",
    "    while cnt < k :\n",
    "        res = [j for i in result for j in i]\n",
    "        result = []\n",
    "        for i in range(len(res)):\n",
    "            if i == 0:\n",
    "                result.append(res[len(res)-1])\n",
    "            else:\n",
    "                result.append(res[i-1])\n",
    "        cnt += 1\n",
    "        result = [result[x:x+len(grid[0])] for x in range(0, len(result), len(grid[0]))]\n",
    "    return(result)"
   ]
  },
  {
   "cell_type": "code",
   "execution_count": 2,
   "metadata": {},
   "outputs": [
    {
     "name": "stdout",
     "output_type": "stream",
     "text": [
      "The output is: \n",
      "[[9, 1, 2], [3, 4, 5], [6, 7, 8]]\n"
     ]
    }
   ],
   "source": [
    "grid = [[1,2,3],[4,5,6],[7,8,9]]\n",
    "k = 1\n",
    "print('The output is: ')\n",
    "print(shiftGrid(grid, k))"
   ]
  },
  {
   "cell_type": "code",
   "execution_count": 3,
   "metadata": {},
   "outputs": [
    {
     "name": "stdout",
     "output_type": "stream",
     "text": [
      "The output is: \n",
      "[[12, 0, 21, 13], [3, 8, 1, 9], [19, 7, 2, 5], [4, 6, 11, 10]]\n"
     ]
    }
   ],
   "source": [
    "grid = [[3,8,1,9],[19,7,2,5],[4,6,11,10],[12,0,21,13]]\n",
    "k = 4\n",
    "print('The output is: ')\n",
    "print(shiftGrid(grid, k))"
   ]
  },
  {
   "cell_type": "code",
   "execution_count": 4,
   "metadata": {},
   "outputs": [
    {
     "name": "stdout",
     "output_type": "stream",
     "text": [
      "The output is: \n",
      "[[1, 2, 3], [4, 5, 6], [7, 8, 9]]\n"
     ]
    }
   ],
   "source": [
    "grid = [[1,2,3],[4,5,6],[7,8,9]] \n",
    "k = 9\n",
    "print('The output is: ')\n",
    "print(shiftGrid(grid, k))"
   ]
  },
  {
   "cell_type": "code",
   "execution_count": null,
   "metadata": {},
   "outputs": [],
   "source": []
  }
 ],
 "metadata": {
  "kernelspec": {
   "display_name": "Python 3",
   "language": "python",
   "name": "python3"
  },
  "language_info": {
   "codemirror_mode": {
    "name": "ipython",
    "version": 3
   },
   "file_extension": ".py",
   "mimetype": "text/x-python",
   "name": "python",
   "nbconvert_exporter": "python",
   "pygments_lexer": "ipython3",
   "version": "3.7.9"
  }
 },
 "nbformat": 4,
 "nbformat_minor": 4
}
