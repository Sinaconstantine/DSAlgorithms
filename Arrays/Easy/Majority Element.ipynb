{
 "cells": [
  {
   "cell_type": "markdown",
   "metadata": {},
   "source": [
    "# <span style='font-family:\"Times New Roman\"'> <span styel=''> Majority Element"
   ]
  },
  {
   "cell_type": "markdown",
   "metadata": {},
   "source": [
    "## <span style='font-family:\"Times New Roman\"'> <span styel=''> Given an array nums of size `n`, return the majority element.\n",
    "\n",
    "## <span style='font-family:\"Times New Roman\"'> <span styel=''>The majority element is the element that appears more than `⌊n / 2⌋` times. You may assume that the majority element always exists in the array."
   ]
  },
  {
   "cell_type": "code",
   "execution_count": 1,
   "metadata": {},
   "outputs": [],
   "source": [
    "def majorityElement(nums):\n",
    "    n = len(nums)\n",
    "    # Removing repeated elements in list by converting it to set\n",
    "    elem = set(nums)\n",
    "    # Iterating over set values\n",
    "    for val in elem:\n",
    "        cnt = nums.count(val)\n",
    "        if cnt > n/2:\n",
    "            return(val)"
   ]
  },
  {
   "cell_type": "code",
   "execution_count": 2,
   "metadata": {},
   "outputs": [
    {
     "name": "stdout",
     "output_type": "stream",
     "text": [
      "Majority element is: \n",
      "3\n"
     ]
    }
   ],
   "source": [
    "nums = [3,2,3]\n",
    "print('Majority element is: ')\n",
    "print(majorityElement(nums))"
   ]
  },
  {
   "cell_type": "code",
   "execution_count": 3,
   "metadata": {},
   "outputs": [
    {
     "name": "stdout",
     "output_type": "stream",
     "text": [
      "Majority element is: \n",
      "2\n"
     ]
    }
   ],
   "source": [
    "nums = [2,2,1,1,1,2,2]\n",
    "print('Majority element is: ')\n",
    "print(majorityElement(nums))"
   ]
  }
 ],
 "metadata": {
  "kernelspec": {
   "display_name": "Python 3",
   "language": "python",
   "name": "python3"
  },
  "language_info": {
   "codemirror_mode": {
    "name": "ipython",
    "version": 3
   },
   "file_extension": ".py",
   "mimetype": "text/x-python",
   "name": "python",
   "nbconvert_exporter": "python",
   "pygments_lexer": "ipython3",
   "version": "3.7.9"
  }
 },
 "nbformat": 4,
 "nbformat_minor": 4
}
