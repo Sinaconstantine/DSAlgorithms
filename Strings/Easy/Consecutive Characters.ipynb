{
 "cells": [
  {
   "cell_type": "markdown",
   "metadata": {},
   "source": [
    "# <span style='font-family:\"Times New Roman\"'> <span styel=''> Consecutive Characters"
   ]
  },
  {
   "cell_type": "markdown",
   "metadata": {},
   "source": [
    "## <span style='font-family:\"Times New Roman\"'> <span styel=''>Given a string s, the power of the string is the maximum length of a non-empty substring that contains only one unique character.\n",
    "\n",
    "## <span style='font-family:\"Times New Roman\"'> <span styel=''>Return the power of the string."
   ]
  },
  {
   "cell_type": "code",
   "execution_count": 1,
   "metadata": {},
   "outputs": [],
   "source": [
    "def maxPower(s):\n",
    "        letters = []\n",
    "        cnt = 1\n",
    "        final_cnt = 1\n",
    "        for i in s:\n",
    "            letters.append(i)\n",
    "        for j in range(1 , len(letters)):\n",
    "            if letters[j-1] == letters[j]:\n",
    "                cnt += 1\n",
    "            if cnt > final_cnt:\n",
    "                final_cnt = cnt\n",
    "            if letters[j-1] != letters[j]:        \n",
    "                cnt = 1\n",
    "        return(final_cnt)"
   ]
  },
  {
   "cell_type": "code",
   "execution_count": 2,
   "metadata": {},
   "outputs": [
    {
     "name": "stdout",
     "output_type": "stream",
     "text": [
      "The power of the string is: \n",
      "2\n"
     ]
    }
   ],
   "source": [
    "s = \"leetcode\"\n",
    "print('The power of the string is: ')\n",
    "print(maxPower(s))"
   ]
  },
  {
   "cell_type": "code",
   "execution_count": 3,
   "metadata": {},
   "outputs": [
    {
     "name": "stdout",
     "output_type": "stream",
     "text": [
      "The power of the string is: \n",
      "5\n"
     ]
    }
   ],
   "source": [
    "s = \"abbcccddddeeeeedcba\"\n",
    "print('The power of the string is: ')\n",
    "print(maxPower(s))"
   ]
  },
  {
   "cell_type": "code",
   "execution_count": 4,
   "metadata": {},
   "outputs": [
    {
     "name": "stdout",
     "output_type": "stream",
     "text": [
      "The power of the string is: \n",
      "5\n"
     ]
    }
   ],
   "source": [
    "s = \"triplepillooooow\"\n",
    "print('The power of the string is: ')\n",
    "print(maxPower(s))"
   ]
  },
  {
   "cell_type": "code",
   "execution_count": 5,
   "metadata": {},
   "outputs": [
    {
     "name": "stdout",
     "output_type": "stream",
     "text": [
      "The power of the string is: \n",
      "11\n"
     ]
    }
   ],
   "source": [
    "s = \"hooraaaaaaaaaaay\"\n",
    "print('The power of the string is: ')\n",
    "print(maxPower(s))"
   ]
  },
  {
   "cell_type": "code",
   "execution_count": 6,
   "metadata": {},
   "outputs": [
    {
     "name": "stdout",
     "output_type": "stream",
     "text": [
      "The power of the string is: \n",
      "1\n"
     ]
    }
   ],
   "source": [
    "s = \"tourist\"\n",
    "print('The power of the string is: ')\n",
    "print(maxPower(s))"
   ]
  },
  {
   "cell_type": "code",
   "execution_count": 7,
   "metadata": {},
   "outputs": [
    {
     "name": "stdout",
     "output_type": "stream",
     "text": [
      "The power of the string is: \n",
      "1\n"
     ]
    }
   ],
   "source": [
    "s = \"j\"\n",
    "print('The power of the string is: ')\n",
    "print(maxPower(s))"
   ]
  }
 ],
 "metadata": {
  "kernelspec": {
   "display_name": "Python 3",
   "language": "python",
   "name": "python3"
  },
  "language_info": {
   "codemirror_mode": {
    "name": "ipython",
    "version": 3
   },
   "file_extension": ".py",
   "mimetype": "text/x-python",
   "name": "python",
   "nbconvert_exporter": "python",
   "pygments_lexer": "ipython3",
   "version": "3.7.9"
  }
 },
 "nbformat": 4,
 "nbformat_minor": 4
}
