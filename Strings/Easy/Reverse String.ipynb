{
 "cells": [
  {
   "cell_type": "markdown",
   "metadata": {},
   "source": [
    "# <span style='font-family:\"Times New Roman\"'> <span styel=''> Reverse String"
   ]
  },
  {
   "cell_type": "markdown",
   "metadata": {},
   "source": [
    "## <span style='font-family:\"Times New Roman\"'> <span styel=''>Write a function that reverses a string. The input string is given as an array of characters `s`."
   ]
  },
  {
   "cell_type": "code",
   "execution_count": 1,
   "metadata": {},
   "outputs": [],
   "source": [
    "def reverseString(s):\n",
    "    \"\"\"\n",
    "    Do not return anything, modify s in-place instead.\n",
    "    \"\"\"\n",
    "    return(s[::-1])\n",
    "    #For leetcode use: return(s.reverse())"
   ]
  },
  {
   "cell_type": "code",
   "execution_count": 2,
   "metadata": {},
   "outputs": [
    {
     "name": "stdout",
     "output_type": "stream",
     "text": [
      "The output is: \n",
      "['o', 'l', 'l', 'e', 'h']\n"
     ]
    }
   ],
   "source": [
    "s = [\"h\",\"e\",\"l\",\"l\",\"o\"]\n",
    "print('The output is: ')\n",
    "print(reverseString(s))"
   ]
  },
  {
   "cell_type": "code",
   "execution_count": 3,
   "metadata": {},
   "outputs": [
    {
     "name": "stdout",
     "output_type": "stream",
     "text": [
      "The output is: \n",
      "['h', 'a', 'n', 'n', 'a', 'H']\n"
     ]
    }
   ],
   "source": [
    "s = [\"H\",\"a\",\"n\",\"n\",\"a\",\"h\"]\n",
    "print('The output is: ')\n",
    "print(reverseString(s))"
   ]
  }
 ],
 "metadata": {
  "kernelspec": {
   "display_name": "Python 3",
   "language": "python",
   "name": "python3"
  },
  "language_info": {
   "codemirror_mode": {
    "name": "ipython",
    "version": 3
   },
   "file_extension": ".py",
   "mimetype": "text/x-python",
   "name": "python",
   "nbconvert_exporter": "python",
   "pygments_lexer": "ipython3",
   "version": "3.7.9"
  }
 },
 "nbformat": 4,
 "nbformat_minor": 4
}
