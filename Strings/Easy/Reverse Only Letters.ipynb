{
 "cells": [
  {
   "cell_type": "markdown",
   "metadata": {},
   "source": [
    "# <span style='font-family:\"Times New Roman\"'> <span styel=''> Reverse Only Letters"
   ]
  },
  {
   "cell_type": "markdown",
   "metadata": {},
   "source": [
    "## <span style='font-family:\"Times New Roman\"'> <span styel=''> Given a string `s`, return the \"reversed\" string where all characters that are not a letter stay in the same place, and all letters reverse their positions."
   ]
  },
  {
   "cell_type": "code",
   "execution_count": 1,
   "metadata": {},
   "outputs": [],
   "source": [
    "def reverseOnlyLetters(s):\n",
    "    let = []\n",
    "    ind = []\n",
    "    ch = []\n",
    "\n",
    "    for i in s:\n",
    "        let.append(i)\n",
    "    ind = [index for index, element in enumerate(let) if element.isalpha() == False]\n",
    "    for j in let:\n",
    "        if j.isalpha() == False:\n",
    "            ch.append(j)\n",
    "    s = ''.join([i for i in s if i.isalpha()])[::-1]\n",
    "    for k in range(len(ind)):\n",
    "        s = s[:ind[k]] + ch[k] + s[ind[k]:]\n",
    "    return(s)"
   ]
  },
  {
   "cell_type": "code",
   "execution_count": 2,
   "metadata": {},
   "outputs": [
    {
     "name": "stdout",
     "output_type": "stream",
     "text": [
      "The output is: \n",
      "dc-ba\n"
     ]
    }
   ],
   "source": [
    "s = \"ab-cd\"\n",
    "print(\"The output is: \")\n",
    "print(reverseOnlyLetters(s))"
   ]
  },
  {
   "cell_type": "code",
   "execution_count": 3,
   "metadata": {},
   "outputs": [
    {
     "name": "stdout",
     "output_type": "stream",
     "text": [
      "The output is: \n",
      "j-Ih-gfE-dCba\n"
     ]
    }
   ],
   "source": [
    "s = \"a-bC-dEf-ghIj\"\n",
    "print(\"The output is: \")\n",
    "print(reverseOnlyLetters(s))"
   ]
  },
  {
   "cell_type": "code",
   "execution_count": 4,
   "metadata": {},
   "outputs": [
    {
     "name": "stdout",
     "output_type": "stream",
     "text": [
      "The output is: \n",
      "Qedo1ct-eeLg=ntse-T!\n"
     ]
    }
   ],
   "source": [
    "s = \"Test1ng-Leet=code-Q!\"\n",
    "print(\"The output is: \")\n",
    "print(reverseOnlyLetters(s))"
   ]
  },
  {
   "cell_type": "code",
   "execution_count": null,
   "metadata": {},
   "outputs": [],
   "source": []
  }
 ],
 "metadata": {
  "kernelspec": {
   "display_name": "Python 3",
   "language": "python",
   "name": "python3"
  },
  "language_info": {
   "codemirror_mode": {
    "name": "ipython",
    "version": 3
   },
   "file_extension": ".py",
   "mimetype": "text/x-python",
   "name": "python",
   "nbconvert_exporter": "python",
   "pygments_lexer": "ipython3",
   "version": "3.7.9"
  }
 },
 "nbformat": 4,
 "nbformat_minor": 4
}
