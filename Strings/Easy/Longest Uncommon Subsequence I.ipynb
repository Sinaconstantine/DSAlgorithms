{
 "cells": [
  {
   "cell_type": "markdown",
   "metadata": {},
   "source": [
    "# <span style='font-family:\"Times New Roman\"'> <span styel=''> Longest Uncommon Subsequence I"
   ]
  },
  {
   "cell_type": "markdown",
   "metadata": {},
   "source": [
    "## <span style='font-family:\"Times New Roman\"'> <span styel=''> Given two strings a and b, return the length of the longest uncommon subsequence between a and b. If the longest uncommon subsequence does not exist, return -1.\n",
    "\n",
    "## <span style='font-family:\"Times New Roman\"'> <span styel=''>An uncommon subsequence between two strings is a string that is a subsequence of one but not the other.\n",
    "\n",
    "## <span style='font-family:\"Times New Roman\"'> <span styel=''>A subsequence of a string s is a string that can be obtained after deleting any number of characters from s."
   ]
  },
  {
   "cell_type": "code",
   "execution_count": 1,
   "metadata": {},
   "outputs": [],
   "source": [
    "def findLUSlength(a, b):\n",
    "    set1 = set(a)\n",
    "    set2 = set(b)\n",
    "    result = bool(set1 & set2)\n",
    "    if a == b: return(-1)\n",
    "    elif (len(a)==len(b)) & (a!=b): return (len(a))\n",
    "    else: return(max(len(a),len(b)))"
   ]
  },
  {
   "cell_type": "code",
   "execution_count": 2,
   "metadata": {},
   "outputs": [
    {
     "name": "stdout",
     "output_type": "stream",
     "text": [
      "Output: 3\n"
     ]
    }
   ],
   "source": [
    "a = \"aba\"\n",
    "b = \"cdc\"\n",
    "print('Output: ' + str(findLUSlength(a, b)))"
   ]
  },
  {
   "cell_type": "code",
   "execution_count": 3,
   "metadata": {},
   "outputs": [
    {
     "name": "stdout",
     "output_type": "stream",
     "text": [
      "Output: 3\n"
     ]
    }
   ],
   "source": [
    "a = \"aaa\"\n",
    "b = \"bbb\"\n",
    "print('Output: ' + str(findLUSlength(a, b)))"
   ]
  },
  {
   "cell_type": "code",
   "execution_count": 4,
   "metadata": {},
   "outputs": [
    {
     "name": "stdout",
     "output_type": "stream",
     "text": [
      "Output: -1\n"
     ]
    }
   ],
   "source": [
    "a = \"aaa\"\n",
    "b = \"aaa\"\n",
    "print('Output: ' + str(findLUSlength(a, b)))"
   ]
  }
 ],
 "metadata": {
  "kernelspec": {
   "display_name": "Python 3",
   "language": "python",
   "name": "python3"
  },
  "language_info": {
   "codemirror_mode": {
    "name": "ipython",
    "version": 3
   },
   "file_extension": ".py",
   "mimetype": "text/x-python",
   "name": "python",
   "nbconvert_exporter": "python",
   "pygments_lexer": "ipython3",
   "version": "3.7.9"
  }
 },
 "nbformat": 4,
 "nbformat_minor": 4
}
